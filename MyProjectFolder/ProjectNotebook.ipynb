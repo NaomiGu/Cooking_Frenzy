{
 "cells": [
  {
   "cell_type": "markdown",
   "id": "d6e14cd4",
   "metadata": {},
   "source": [
    "# Welcome to Cooking Frenzy!"
   ]
  },
  {
   "cell_type": "markdown",
   "id": "4012221e",
   "metadata": {},
   "source": [
    "## You will run a restaurant all by yourself. Which means you are the owner, the chef and the server!\n"
   ]
  },
  {
   "cell_type": "markdown",
   "id": "fa9e4b11",
   "metadata": {},
   "source": [
    " "
   ]
  },
  {
   "cell_type": "markdown",
   "id": "5d7739e3",
   "metadata": {},
   "source": [
    "## Gaming Rules\n",
    "\n",
    "\n",
    "\n",
    "**Goal**: The objective of the Cooking Frenzy game is to successfully cook dishes and manage resources to progress through multiple days without going bankrupt.\n",
    "\n",
    "**Starting Point**: The game begins with the player having 0 Gollum coins and on Day 0.\n",
    "\n",
    "**Expenses**: Each day, you must manage their expenses, including food, cat food, and rent. Rent must be paid every three days, while food and cat food expenses are incurred daily.\n",
    "\n",
    "**Choosing a Category**: On Day 0, the player must decide which category of cuisine they wish to cook.\n",
    "\n",
    "**Cooking Dishes**: Once a category is chosen, the player will cook dishes from that category for the entire game. Each day consists of multiple rounds of cooking.\n",
    "\n",
    "**Earning Coins**: In each round, the player is presented with a dish from the chosen category. The player must identify the missing ingredient for the dish within 5 seconds. For each successful try, the player earns 100 Gollum coins. Each day, the player can earn maximum of 300 Gollum coins.\n",
    "\n",
    "**Bankruptcy**: If you runs out of coins to cover expenses, they go bankrupt, and the game ends.\n",
    "\n",
    "Put on your chef's hat, roll up your sleeves, and get ready to embark on the ultimate cooking challenge! Are you ready to show off your culinary skills and become the next cooking master? Let's get cooking!\n",
    "\n",
    "#### Also, feel free to explore the rules while you're playing!\n"
   ]
  },
  {
   "cell_type": "markdown",
   "id": "aea1bed4",
   "metadata": {},
   "source": [
    "## Start the game by running the following code:"
   ]
  },
  {
   "cell_type": "code",
   "execution_count": null,
   "id": "ece6a9ef",
   "metadata": {},
   "outputs": [
    {
     "name": "stdout",
     "output_type": "stream",
     "text": [
      "Welcome to Cooking Frenzy!\n"
     ]
    }
   ],
   "source": [
    "from Modules.termcolor import colored\n",
    "from Modules.cooking_frenzy import CookingGame\n",
    "game = CookingGame()\n",
    "game.play_game()"
   ]
  },
  {
   "cell_type": "markdown",
   "id": "522f2ae5",
   "metadata": {},
   "source": [
    "## Extra Credit\n",
    "\n",
    "### Why this is challenging to me:\n",
    "\n",
    "\n",
    "I encounter difficulties in grasping the intricacies of this coding project despite not being entirely new to the concept. During my high school years, I attempted to take AP CSA, but the complexities of programming was overwhelming to me, which led me to drop out of the course in the third week. \n",
    "\n",
    "This early setback made me feel less confident in myself. However, when I enrolled in COGS 18 at UCSD as a specialized course for my CBN major, I found myself drawn to coding again. Despite my newfound enthusiasm, I continued to grapple with the basics due to my limited coding knowledge. Cooking Frenzy presented a significant challenge as it demanded an understanding of logic, modularity, and testing. Additionally, I ventured into threading and termcolor, which added complexity to the project. Overcoming these obstacles was tough, but ultimately rewarding, and I am pleased with the outcome of the project.\n",
    "\n"
   ]
  }
 ],
 "metadata": {
  "kernelspec": {
   "display_name": "Python 3 (ipykernel)",
   "language": "python",
   "name": "python3"
  },
  "language_info": {
   "codemirror_mode": {
    "name": "ipython",
    "version": 3
   },
   "file_extension": ".py",
   "mimetype": "text/x-python",
   "name": "python",
   "nbconvert_exporter": "python",
   "pygments_lexer": "ipython3",
   "version": "3.9.5"
  }
 },
 "nbformat": 4,
 "nbformat_minor": 5
}
